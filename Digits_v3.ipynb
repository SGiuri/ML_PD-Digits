{
 "cells": [
  {
   "cell_type": "markdown",
   "id": "293b75af",
   "metadata": {},
   "source": [
    "# Machine Learning con scikit-learn"
   ]
  },
  {
   "cell_type": "markdown",
   "id": "337b6674",
   "metadata": {},
   "source": [
    "## Importo le librerie necessarie al progetto"
   ]
  },
  {
   "cell_type": "code",
   "execution_count": 1,
   "id": "f9dab5d2",
   "metadata": {},
   "outputs": [],
   "source": [
    "import random\n",
    "\n",
    "import pandas as pd\n",
    "import numpy as np\n",
    "\n",
    "from sklearn.datasets import load_digits\n",
    "import matplotlib.pyplot as plt\n",
    "\n",
    "\n",
    "\n",
    "import my_functions as mf\n",
    "\n"
   ]
  },
  {
   "cell_type": "markdown",
   "id": "f1377380",
   "metadata": {},
   "source": [
    "## Carico il dataset su cui lavorare"
   ]
  },
  {
   "cell_type": "code",
   "execution_count": 2,
   "id": "6f0a1c84",
   "metadata": {},
   "outputs": [],
   "source": [
    "dig = load_digits()"
   ]
  },
  {
   "cell_type": "code",
   "execution_count": 3,
   "id": "81097d84",
   "metadata": {},
   "outputs": [
    {
     "data": {
      "text/plain": [
       "dict_keys(['data', 'target', 'frame', 'feature_names', 'target_names', 'images', 'DESCR'])"
      ]
     },
     "execution_count": 3,
     "metadata": {},
     "output_type": "execute_result"
    }
   ],
   "source": [
    "dig.keys()"
   ]
  },
  {
   "cell_type": "markdown",
   "id": "3f319b31",
   "metadata": {},
   "source": [
    "## Train test split    \n",
    "Separi i dati in 2 gruppi: il gruppo train lo utilizzo per l'addestrmaento dell'algoritmo e il gruppo \n",
    "test lo uso per verificare le performance dell'algoritmo. Tipicamente train 75% + test 25%.     \n"
   ]
  },
  {
   "cell_type": "code",
   "execution_count": 4,
   "id": "6017fbab",
   "metadata": {},
   "outputs": [],
   "source": [
    "from sklearn.model_selection import train_test_split\n",
    "\n",
    "SEED = 42"
   ]
  },
  {
   "cell_type": "code",
   "execution_count": 5,
   "id": "5081dd78",
   "metadata": {},
   "outputs": [],
   "source": [
    "X = dig.data # dati numerici associati alla matrice delle digits\n",
    "y = dig.target # target di ciascuna matrice\n",
    "\n",
    "\n",
    "X_train, X_test, y_train, y_test = train_test_split(X,y, random_state = SEED)"
   ]
  },
  {
   "cell_type": "code",
   "execution_count": 6,
   "id": "c71d6de2",
   "metadata": {},
   "outputs": [
    {
     "data": {
      "text/plain": [
       "((1347, 64), (450, 64), (1347,), (450,))"
      ]
     },
     "execution_count": 6,
     "metadata": {},
     "output_type": "execute_result"
    }
   ],
   "source": [
    "X_train.shape, X_test.shape, y_train.shape, y_test.shape"
   ]
  },
  {
   "cell_type": "markdown",
   "id": "f0ddef04",
   "metadata": {},
   "source": [
    "## Definisco e creo un dizionario con i modelli da implementare"
   ]
  },
  {
   "cell_type": "code",
   "execution_count": 13,
   "id": "c6981632",
   "metadata": {},
   "outputs": [],
   "source": [
    "from sklearn.neighbors import KNeighborsClassifier\n",
    "from sklearn.naive_bayes import GaussianNB, BernoulliNB\n",
    "from sklearn.svm import LinearSVC, SVC\n",
    "\n",
    "from sklearn.metrics import accuracy_score, confusion_matrix\n"
   ]
  },
  {
   "cell_type": "code",
   "execution_count": 14,
   "id": "0699accd",
   "metadata": {},
   "outputs": [],
   "source": [
    "knn_model = KNeighborsClassifier()\n",
    "g_nb = GaussianNB()\n",
    "b_nb = BernoulliNB()\n",
    "l_svc = LinearSVC(random_state=SEED)\n",
    "svc = SVC(random_state=SEED)\n",
    "\n",
    "models = {\"knn_model\": knn_model,\n",
    "          \"g_nb\":  g_nb,\n",
    "          \"b_nb\":  b_nb,\n",
    "          \"l_svc\": l_svc,\n",
    "          \"svc\": svc}\n"
   ]
  },
  {
   "cell_type": "markdown",
   "id": "7fc77eae",
   "metadata": {},
   "source": [
    "## Addestramento e valutazione dei modelli"
   ]
  },
  {
   "cell_type": "code",
   "execution_count": 15,
   "id": "2e9daf11",
   "metadata": {},
   "outputs": [
    {
     "name": "stdout",
     "output_type": "stream",
     "text": [
      "knn_model accuracy_score = 0.9933333333333333\n",
      "    0   1   2   3   4   5   6   7   8   9\n",
      "0  43   0   0   0   0   0   0   0   0   0\n",
      "1   0  37   0   0   0   0   0   0   0   0\n",
      "2   0   0  38   0   0   0   0   0   0   0\n",
      "3   0   0   0  46   0   0   0   0   0   0\n",
      "4   0   0   0   0  55   0   0   0   0   0\n",
      "5   0   0   0   0   0  58   0   0   0   1\n",
      "6   0   0   0   0   0   0  45   0   0   0\n",
      "7   0   0   0   0   0   0   0  41   0   0\n",
      "8   0   0   0   0   0   0   0   0  38   0\n",
      "9   0   0   0   0   1   1   0   0   0  46\n",
      "\n",
      "g_nb accuracy_score = 0.8555555555555555\n",
      "    0   1   2   3   4   5   6   7   8   9\n",
      "0  41   0   0   0   0   1   0   1   0   0\n",
      "1   0  29   2   0   0   0   0   0   4   2\n",
      "2   0   2  23   0   0   0   1   0  12   0\n",
      "3   0   0   1  38   0   1   0   0   5   1\n",
      "4   0   0   0   0  46   0   2   7   0   0\n",
      "5   0   0   0   0   0  56   1   1   0   1\n",
      "6   0   0   0   0   1   1  43   0   0   0\n",
      "7   0   0   0   0   0   1   0  40   0   0\n",
      "8   0   2   0   0   0   0   0   2  34   0\n",
      "9   0   1   1   1   0   2   1   5   2  35\n",
      "\n",
      "b_nb accuracy_score = 0.8666666666666667\n",
      "    0   1   2   3   4   5   6   7   8   9\n",
      "0  41   0   0   0   2   0   0   0   0   0\n",
      "1   0  23   6   0   0   0   0   0   6   2\n",
      "2   0   2  33   2   0   0   0   0   1   0\n",
      "3   0   0   2  39   0   0   0   0   3   2\n",
      "4   0   0   0   0  53   0   1   1   0   0\n",
      "5   1   1   0   2   0  47   1   0   0   7\n",
      "6   0   0   0   0   1   0  44   0   0   0\n",
      "7   0   0   0   0   0   0   0  41   0   0\n",
      "8   0   2   1   1   0   0   0   0  32   2\n",
      "9   0   1   0   2   2   1   0   4   1  37\n",
      "\n",
      "l_svc accuracy_score = 0.9577777777777777\n",
      "    0   1   2   3   4   5   6   7   8   9\n",
      "0  42   0   0   0   1   0   0   0   0   0\n",
      "1   0  33   1   0   0   0   0   0   3   0\n",
      "2   0   0  38   0   0   0   0   0   0   0\n",
      "3   0   0   1  43   0   1   0   0   1   0\n",
      "4   0   1   0   0  53   0   0   0   1   0\n",
      "5   0   0   1   0   0  57   1   0   0   0\n",
      "6   0   0   0   0   0   1  44   0   0   0\n",
      "7   0   0   0   0   0   0   0  40   0   1\n",
      "8   0   1   0   0   0   1   0   0  36   0\n",
      "9   0   0   0   0   1   0   0   0   2  45\n",
      "\n",
      "svc accuracy_score = 0.9866666666666667\n",
      "    0   1   2   3   4   5   6   7   8   9\n",
      "0  43   0   0   0   0   0   0   0   0   0\n",
      "1   0  37   0   0   0   0   0   0   0   0\n",
      "2   0   0  38   0   0   0   0   0   0   0\n",
      "3   0   0   0  45   0   0   0   0   1   0\n",
      "4   0   0   0   0  55   0   0   0   0   0\n",
      "5   0   0   0   0   0  58   1   0   0   0\n",
      "6   0   0   0   0   0   0  45   0   0   0\n",
      "7   0   0   0   0   0   0   0  40   0   1\n",
      "8   0   0   0   0   0   0   0   0  37   1\n",
      "9   0   0   0   0   0   1   0   1   0  46\n",
      "\n"
     ]
    },
    {
     "name": "stderr",
     "output_type": "stream",
     "text": [
      "C:\\Users\\simon\\anaconda3\\lib\\site-packages\\sklearn\\svm\\_base.py:1206: ConvergenceWarning: Liblinear failed to converge, increase the number of iterations.\n",
      "  warnings.warn(\n"
     ]
    }
   ],
   "source": [
    "for model_name, model in models.items():\n",
    "    \n",
    "    model.fit(X_train, y_train)\n",
    "    y_pred = model.predict(X_test)\n",
    "    \n",
    "    print(f\"{model_name} accuracy_score = {accuracy_score(y_test, y_pred)}\")\n",
    "    print(pd.DataFrame(confusion_matrix(y_test, y_pred)))\n",
    "    print()\n",
    "    \n",
    "    "
   ]
  },
  {
   "cell_type": "markdown",
   "id": "1c34bc86",
   "metadata": {
    "pycharm": {
     "name": "#%%\n"
    }
   },
   "source": [
    "## mplementazione della CV"
   ]
  },
  {
   "cell_type": "code",
   "execution_count": 19,
   "id": "242b39a1",
   "metadata": {},
   "outputs": [],
   "source": [
    "from sklearn.model_selection import cross_val_score\n",
    "from sklearn.model_selection import StratifiedKFold\n",
    "from sklearn.model_selection import cross_val_predict\n",
    "\n",
    "import warnings\n",
    "\n",
    "warnings.filterwarnings(\"ignore\")"
   ]
  },
  {
   "cell_type": "code",
   "execution_count": 20,
   "id": "4d1c25a3",
   "metadata": {},
   "outputs": [
    {
     "name": "stdout",
     "output_type": "stream",
     "text": [
      "knn_model CV_score = 0.9860738671632527 +- 0.010932533671578521\n",
      "\n",
      "g_nb CV_score = 0.8425108628181253 +- 0.02766478288819924\n",
      "\n",
      "b_nb CV_score = 0.853100558659218 +- 0.018197322721628665\n",
      "\n",
      "l_svc CV_score = 0.948792675356921 +- 0.015140894321463863\n",
      "\n",
      "svc CV_score = 0.9888671632526382 +- 0.007059259993812237\n",
      "\n"
     ]
    }
   ],
   "source": [
    "# creo le fold per la cv\n",
    "cv_fold = StratifiedKFold(n_splits=10, shuffle=True, random_state=SEED)\n",
    "\n",
    "\n",
    "for model_name, model in models.items():\n",
    "    \n",
    "    \n",
    "    # valuto il modello sulle fold create\n",
    "    scores = cross_val_score(model, X, y, cv=cv_fold, verbose=0)\n",
    "       \n",
    "    print(f\"{model_name} CV_score = {scores.mean()} +- {scores.std()}\")\n",
    "    print()\n",
    "    "
   ]
  },
  {
   "cell_type": "code",
   "execution_count": 49,
   "id": "bd557521",
   "metadata": {
    "scrolled": true
   },
   "outputs": [
    {
     "name": "stderr",
     "output_type": "stream",
     "text": [
      "[Parallel(n_jobs=1)]: Using backend SequentialBackend with 1 concurrent workers.\n",
      "[Parallel(n_jobs=1)]: Done  10 out of  10 | elapsed:    0.0s finished\n"
     ]
    }
   ],
   "source": [
    "# creo le fold per la cv\n",
    "cv_fold = StratifiedKFold(n_splits=10, shuffle=True, random_state=SEED)\n",
    "\n",
    "# valuto il modello sulle fold create\n",
    "scores = cross_val_score(knn_for_CV, X, y, cv=cv_fold, verbose=1)"
   ]
  },
  {
   "cell_type": "code",
   "execution_count": 51,
   "id": "3f5d61fc",
   "metadata": {},
   "outputs": [
    {
     "data": {
      "text/plain": [
       "(0.9855245189323402, 0.008348092424618325)"
      ]
     },
     "execution_count": 51,
     "metadata": {},
     "output_type": "execute_result"
    }
   ],
   "source": [
    "scores.mean(), scores.std()"
   ]
  },
  {
   "cell_type": "code",
   "execution_count": 54,
   "id": "bea70c8f",
   "metadata": {},
   "outputs": [
    {
     "data": {
      "text/plain": [
       "array([0, 1, 8, ..., 8, 9, 8])"
      ]
     },
     "execution_count": 54,
     "metadata": {},
     "output_type": "execute_result"
    }
   ],
   "source": [
    "cross_val_predict(knn_for_CV, X, y)"
   ]
  },
  {
   "cell_type": "markdown",
   "id": "0113f5f1",
   "metadata": {},
   "source": [
    "## Data Augmentation"
   ]
  },
  {
   "cell_type": "code",
   "execution_count": 67,
   "id": "ff6a9b37",
   "metadata": {},
   "outputs": [
    {
     "data": {
      "image/png": "[encoded data removed]",
      "text/plain": [
       "<Figure size 432x288 with 1 Axes>"
      ]
     },
     "metadata": {
      "needs_background": "light"
     },
     "output_type": "display_data"
    }
   ],
   "source": [
    "x0 = X[0].reshape(8,8)\n",
    "\n",
    "plt.imshow(x0, cmap=plt.cm.gray_r)\n",
    "plt.show()"
   ]
  },
  {
   "cell_type": "code",
   "execution_count": 68,
   "id": "40fc2e63",
   "metadata": {},
   "outputs": [
    {
     "data": {
      "image/png": "[encoded data removed]",
      "text/plain": [
       "<Figure size 432x288 with 1 Axes>"
      ]
     },
     "metadata": {
      "needs_background": "light"
     },
     "output_type": "display_data"
    }
   ],
   "source": [
    "x0_t1 = np.roll(x0, 1, axis = 0)\n",
    "plt.imshow(x0_t1, cmap=plt.cm.gray_r)\n",
    "plt.show()"
   ]
  },
  {
   "cell_type": "code",
   "execution_count": 69,
   "id": "b36ab29e",
   "metadata": {},
   "outputs": [
    {
     "data": {
      "image/png": "[encoded data removed]",
      "text/plain": [
       "<Figure size 432x288 with 1 Axes>"
      ]
     },
     "metadata": {
      "needs_background": "light"
     },
     "output_type": "display_data"
    }
   ],
   "source": [
    "x0_t1 = np.roll(x0, 1, axis = 1)\n",
    "plt.imshow(x0_t1, cmap=plt.cm.gray_r)\n",
    "plt.show()"
   ]
  },
  {
   "cell_type": "code",
   "execution_count": 70,
   "id": "e40e7970",
   "metadata": {},
   "outputs": [
    {
     "data": {
      "image/png": "[encoded data removed]",
      "text/plain": [
       "<Figure size 432x288 with 1 Axes>"
      ]
     },
     "metadata": {
      "needs_background": "light"
     },
     "output_type": "display_data"
    }
   ],
   "source": [
    "x0_t1 = np.roll(x0, -1, axis = 0)\n",
    "plt.imshow(x0_t1, cmap=plt.cm.gray_r)\n",
    "plt.show()"
   ]
  },
  {
   "cell_type": "code",
   "execution_count": 71,
   "id": "10a0fd67",
   "metadata": {},
   "outputs": [
    {
     "data": {
      "image/png": "[encoded data removed]",
      "text/plain": [
       "<Figure size 432x288 with 1 Axes>"
      ]
     },
     "metadata": {
      "needs_background": "light"
     },
     "output_type": "display_data"
    }
   ],
   "source": [
    "x0_t1 = np.roll(x0, -1, axis = 1)\n",
    "plt.imshow(x0_t1, cmap=plt.cm.gray_r)\n",
    "plt.show()"
   ]
  },
  {
   "cell_type": "code",
   "execution_count": 77,
   "id": "b47f6943",
   "metadata": {},
   "outputs": [
    {
     "data": {
      "image/png": "[encoded data removed]",
      "text/plain": [
       "<Figure size 600x180 with 5 Axes>"
      ]
     },
     "metadata": {
      "needs_background": "light"
     },
     "output_type": "display_data"
    }
   ],
   "source": [
    "X_squared = X.reshape(1797,8,8)\n",
    "images =  X_squared[:5]\n",
    "targets = y[:5]\n",
    "mf.show_multiple_img(images, targets)"
   ]
  },
  {
   "cell_type": "code",
   "execution_count": 80,
   "id": "34f6f576",
   "metadata": {},
   "outputs": [
    {
     "data": {
      "image/png": "[encoded data removed]",
      "text/plain": [
       "<Figure size 600x180 with 5 Axes>"
      ]
     },
     "metadata": {
      "needs_background": "light"
     },
     "output_type": "display_data"
    }
   ],
   "source": [
    "X_rolled_1 = np.roll(X_squared, 1, axis=2)\n",
    "images =  X_rolled[:5]\n",
    "targets = y[:5]\n",
    "mf.show_multiple_img(images, targets)"
   ]
  },
  {
   "cell_type": "code",
   "execution_count": 83,
   "id": "6b531c36",
   "metadata": {},
   "outputs": [
    {
     "data": {
      "image/png": "[encoded data removed]",
      "text/plain": [
       "<Figure size 600x180 with 5 Axes>"
      ]
     },
     "metadata": {
      "needs_background": "light"
     },
     "output_type": "display_data"
    }
   ],
   "source": [
    "X_rolled_2 = np.roll(X_squared, -1, axis=2)\n",
    "images =  X_rolled[:5]\n",
    "targets = y[:5]\n",
    "mf.show_multiple_img(images, targets)"
   ]
  },
  {
   "cell_type": "code",
   "execution_count": 88,
   "id": "8019496e",
   "metadata": {},
   "outputs": [
    {
     "data": {
      "text/plain": [
       "((5391, 64), (5391,))"
      ]
     },
     "execution_count": 88,
     "metadata": {},
     "output_type": "execute_result"
    }
   ],
   "source": [
    "\n",
    "X_squared = X.reshape(1797,8,8)\n",
    "X_rolled_1 = np.roll(X_squared, 1, axis=2).reshape(1797,64)\n",
    "X_rolled_2 = np.roll(X_squared, -1, axis=2).reshape(1797,64)\n",
    "\n",
    "# Adesso eseguiamo lo stacking su X, X_rolled_1 e X_rolled_2\n",
    "\n",
    "X = np.concatenate((X, X_rolled_1,X_rolled_2))\n",
    "y = np.tile(y, 3)\n",
    "X.shape, y.shape"
   ]
  },
  {
   "cell_type": "code",
   "execution_count": 91,
   "id": "e9669db3",
   "metadata": {},
   "outputs": [
    {
     "name": "stderr",
     "output_type": "stream",
     "text": [
      "[Parallel(n_jobs=1)]: Using backend SequentialBackend with 1 concurrent workers.\n",
      "[Parallel(n_jobs=1)]: Done  10 out of  10 | elapsed:    0.5s finished\n"
     ]
    },
    {
     "data": {
      "text/plain": [
       "(0.9849745756888615, 0.003753401728146326)"
      ]
     },
     "execution_count": 91,
     "metadata": {},
     "output_type": "execute_result"
    }
   ],
   "source": [
    "# Valutiamo il modell con la crossValidation:\n",
    "# costruisamo il modello\n",
    "knn_for_CV = KNeighborsClassifier(n_neighbors=7)\n",
    "\n",
    "# creo le fold per la cv\n",
    "cv_fold = StratifiedKFold(n_splits=10, shuffle=True, random_state=SEED)\n",
    "\n",
    "# valuto il modello sulle fold create\n",
    "scores = cross_val_score(knn_for_CV, X, y, cv=cv_fold, verbose=1)\n",
    "scores.mean(), scores.std()"
   ]
  },
  {
   "cell_type": "markdown",
   "id": "6e64651b",
   "metadata": {},
   "source": [
    "## Ottimizzazione degli iperparametri"
   ]
  },
  {
   "cell_type": "code",
   "execution_count": 30,
   "id": "6d86880b",
   "metadata": {},
   "outputs": [],
   "source": [
    "\n",
    "def knn_iperparameter_avaluation(n_neigh, X_train, y_train, X_test, y_test):\n",
    "    \n",
    "    # Creo il modello\n",
    "    knn_model = KNeighborsClassifier(n_neighbors=n_neigh)\n",
    "    \n",
    "    # Eseguo il fitting del modello sui dati:\n",
    "    knn_model.fit(X_train, y_train)\n",
    "    \n",
    "    # Valuto il modello\n",
    "    score = knn_model.score(X_test, y_test)\n",
    "    \n",
    "    return score\n",
    "\n",
    "results = {}   \n",
    "for n in range(1, 51):\n",
    "    \n",
    "    results[n] = knn_iperparameter_avaluation(n, X_train, y_train, X_test, y_test)\n"
   ]
  },
  {
   "cell_type": "code",
   "execution_count": 31,
   "id": "4cfd9d37",
   "metadata": {},
   "outputs": [
    {
     "data": {
      "image/png": "[encoded data removed]",
      "text/plain": [
       "<Figure size 432x288 with 1 Axes>"
      ]
     },
     "metadata": {
      "needs_background": "light"
     },
     "output_type": "display_data"
    }
   ],
   "source": [
    "plt.plot(results.keys(), results.values())\n",
    "plt.title(\"Andamento 'score' su modello\")\n",
    "\n",
    "plt.xlabel(\"N_Neighbours\")\n",
    "plt.ylabel(\"Score\")\n",
    "\n",
    "plt.tight_layout()\n",
    "plt.grid(visible = True)\n",
    "plt.show()"
   ]
  },
  {
   "cell_type": "markdown",
   "id": "f9289486",
   "metadata": {},
   "source": [
    "### Applicazione dello stesso modello a un set di dati su Kaggle:"
   ]
  },
  {
   "cell_type": "code",
   "execution_count": 32,
   "id": "d00aadef",
   "metadata": {},
   "outputs": [],
   "source": [
    "\n",
    "# https://www.kaggle.com/sgiuri/ml-pd-digits"
   ]
  }
 ],
 "metadata": {
  "kernelspec": {
   "display_name": "Python 3 (ipykernel)",
   "language": "python",
   "name": "python3"
  },
  "language_info": {
   "codemirror_mode": {
    "name": "ipython",
    "version": 3
   },
   "file_extension": ".py",
   "mimetype": "text/x-python",
   "name": "python",
   "nbconvert_exporter": "python",
   "pygments_lexer": "ipython3",
   "version": "3.9.7"
  },
  "toc": {
   "base_numbering": 1,
   "nav_menu": {},
   "number_sections": true,
   "sideBar": true,
   "skip_h1_title": false,
   "title_cell": "Table of Contents",
   "title_sidebar": "Contents",
   "toc_cell": false,
   "toc_position": {
    "height": "calc(100% - 180px)",
    "left": "10px",
    "top": "150px",
    "width": "211px"
   },
   "toc_section_display": true,
   "toc_window_display": false
  },
  "varInspector": {
   "cols": {
    "lenName": 16,
    "lenType": 16,
    "lenVar": 40
   },
   "kernels_config": {
    "python": {
     "delete_cmd_postfix": "",
     "delete_cmd_prefix": "del ",
     "library": "var_list.py",
     "varRefreshCmd": "print(var_dic_list())"
    },
    "r": {
     "delete_cmd_postfix": ") ",
     "delete_cmd_prefix": "rm(",
     "library": "var_list.r",
     "varRefreshCmd": "cat(var_dic_list()) "
    }
   },
   "types_to_exclude": [
    "module",
    "function",
    "builtin_function_or_method",
    "instance",
    "_Feature"
   ],
   "window_display": false
  }
 },
 "nbformat": 4,
 "nbformat_minor": 5
}